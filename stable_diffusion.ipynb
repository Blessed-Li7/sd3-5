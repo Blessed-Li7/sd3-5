import torch
from diffusers import StableDiffusionPipeline

# 加载模型
model_id = "CompVis/stable-diffusion-v1-4"
pipe = StableDiffusionPipeline.from_pretrained(model_id)
pipe = pipe.to("cuda")

# 生成图像
prompt = "A beautiful landscape with mountains and a river"
image = pipe(prompt).images[0]

# 显示图像
image.show()
